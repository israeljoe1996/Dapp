{
 "cells": [
  {
   "cell_type": "code",
   "execution_count": 6,
   "metadata": {},
   "outputs": [
    {
     "name": "stdout",
     "output_type": "stream",
     "text": [
      "Overwriting dapp.py\n"
     ]
    }
   ],
   "source": [
    "%%writefile dapp.py\n",
    "\n",
    "\n",
    "import streamlit as st\n",
    "import pandas as pd\n",
    "import numpy as np\n",
    "import pickle\n",
    "from PIL import Image\n",
    "\n",
    "\n",
    "\n",
    "st.write(\"\"\"\n",
    "# DIABETICS STATUS PREDICTION APP!\n",
    "\"\"\")\n",
    "\n",
    "image=Image.open('diabetes.jpg')\n",
    "st.image(image,caption='Diabetes Kills')\n",
    "model = pickle.load(open('class_model.pkl', 'rb'))\n",
    "\n",
    "scaler=pickle.load(open('scaler2.pkl', 'rb'))\n",
    "\n",
    "st.sidebar.header('User Input Parameters')\n",
    "\n",
    "\n",
    "\n",
    "def user_input_features():\n",
    "    GenHlth = st.selectbox('Health Rating',('Excellent', 'Good', 'Stable', 'Bad', 'Critical'))\n",
    "    if GenHlth=='Excellent':\n",
    "        GenHlth=5\n",
    "    if GenHlth=='Good':\n",
    "        GenHlth=4\n",
    "    if GenHlth=='Stable':\n",
    "        GenHlth=3\n",
    "    if GenHlth=='Bad':\n",
    "        GenHlth=2\n",
    "    else:\n",
    "        GenHlth=1\n",
    "    CholCheck = st.selectbox('Cholestrol Level',('High', 'Low'))\n",
    "    if CholCheck=='High':\n",
    "        CholCheck=1\n",
    "    else:\n",
    "        CholCheck=0\n",
    "        \n",
    "    HighBP = st.selectbox('Blood Pressure Level',('High', 'Low'))\n",
    "    if HighBP=='High':\n",
    "        HighBP=1\n",
    "    else:\n",
    "        HighBP=0\n",
    "        \n",
    "    AnyHealthcare = st.selectbox('Do you Have a Health Care Plan',('Yes','No'))\n",
    "    if AnyHealthcare=='Yes':\n",
    "        AnyHealthcare=1\n",
    "    else:\n",
    "        AnyHealthcare=0\n",
    "   \n",
    "    PhysActivity = st.selectbox('Do You engage in Regular Physical Activity', ('Yes', 'No'))\n",
    "    if PhysActivity=='Yes':\n",
    "        PhysActivity=1\n",
    "    else:\n",
    "        PhysActivity=0\n",
    "        \n",
    "\n",
    "    Veggies=st.selectbox('Do You Take Vegetables',('Yes','No'))\n",
    "    if Veggies=='Yes':\n",
    "        Veggies=1\n",
    "    else:\n",
    "        Veggies=0\n",
    "        \n",
    "    data = {'GenHlth':GenHlth,\n",
    "           'CholCheck':CholCheck,\n",
    "           'HighBP':HighBP,\n",
    "           'AnyHealthcare':AnyHealthcare,\n",
    "           'PhysActivity':PhysActivity,\n",
    "           'Veggies':Veggies}\n",
    "    \n",
    "    features = pd.DataFrame(data, index=[0])\n",
    "    return features\n",
    "input_df = user_input_features()\n",
    "input_df = scaler.transform(input_df)\n",
    "\n",
    "\n",
    "if st.button('PREDICT'):\n",
    "    y_out=model.predict(input_df)\n",
    "    if y_out[0]==1:\n",
    "         st.write(f' You have a high risk of Diabetes')\n",
    "    else:\n",
    "         st.write(f' You are not at risk of Diabetes')\n",
    "   "
   ]
  },
  {
   "cell_type": "code",
   "execution_count": 7,
   "metadata": {},
   "outputs": [
    {
     "name": "stdout",
     "output_type": "stream",
     "text": [
      "^C\n"
     ]
    }
   ],
   "source": [
    "!streamlit run dapp.py"
   ]
  },
  {
   "cell_type": "code",
   "execution_count": null,
   "metadata": {},
   "outputs": [],
   "source": []
  }
 ],
 "metadata": {
  "kernelspec": {
   "display_name": "Python 3",
   "language": "python",
   "name": "python3"
  },
  "language_info": {
   "codemirror_mode": {
    "name": "ipython",
    "version": 3
   },
   "file_extension": ".py",
   "mimetype": "text/x-python",
   "name": "python",
   "nbconvert_exporter": "python",
   "pygments_lexer": "ipython3",
   "version": "3.8.5"
  }
 },
 "nbformat": 4,
 "nbformat_minor": 4
}
